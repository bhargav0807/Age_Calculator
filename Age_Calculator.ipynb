{
 "cells": [
  {
   "cell_type": "code",
   "execution_count": 191,
   "id": "26e78a67-6461-4181-b12a-78ae0f19a4ef",
   "metadata": {},
   "outputs": [],
   "source": [
    "from tkinter import *\n",
    "from datetime import *\n",
    "from PIL import Image,ImageTk\n",
    "\n",
    "window = Tk()\n",
    "window.title(\"AGE CALCULATOR\")\n",
    "window.geometry(\"620x620\")\n",
    "window.resizable(False, False)\n",
    "\n",
    "frame = Frame(window)\n",
    "frame.pack()\n",
    "frame.place(x=110, y=75)\n",
    "img = ImageTk.PhotoImage(Image.open(\"age_calculator.jpg\"))\n",
    "label = Label(frame, image = img)\n",
    "label.pack()\n",
    "\n",
    "\n",
    "name = Label(window, text = \"Name\").place(x=200, y=250)\n",
    "year = Label(window, text = \"Year\").place(x=200, y=300)\n",
    "month = Label(window, text = \"Month\").place(x=200, y=350)\n",
    "day = Label(window, text = \"Day\").place(x=200, y=400)\n",
    "\n",
    "name_entry = Entry(window)\n",
    "name_entry.place(x=250, y=250)\n",
    "\n",
    "year_entry = Entry(window)\n",
    "year_entry.place(x=250, y=300)\n",
    "\n",
    "month_entry = Entry(window)\n",
    "month_entry.place(x=250, y=350)\n",
    "\n",
    "day_entry = Entry(window)\n",
    "day_entry.place(x=250, y=400)\n",
    "\n",
    "\n",
    "def age_calculator():\n",
    "    today = date.today()\n",
    "    b_day = date(int(year_entry.get()), int(month_entry.get()), int(day_entry.get()))\n",
    "    age = today.year - b_day.year\n",
    "    age_display = Label(window, text = f'{name_entry.get()}, your age is {age}', font=20).place(x=180, y=500)\n",
    "\n",
    "submit = Button(window, text=\"Calculate Age\",fg='white', bg='black', command = age_calculator).place(x=235, y=450)\n",
    "\n",
    "window.mainloop()"
   ]
  }
 ],
 "metadata": {
  "kernelspec": {
   "display_name": "Python 3 (ipykernel)",
   "language": "python",
   "name": "python3"
  },
  "language_info": {
   "codemirror_mode": {
    "name": "ipython",
    "version": 3
   },
   "file_extension": ".py",
   "mimetype": "text/x-python",
   "name": "python",
   "nbconvert_exporter": "python",
   "pygments_lexer": "ipython3",
   "version": "3.11.5"
  }
 },
 "nbformat": 4,
 "nbformat_minor": 5
}
